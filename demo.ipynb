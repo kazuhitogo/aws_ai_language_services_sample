{
 "cells": [
  {
   "cell_type": "markdown",
   "metadata": {},
   "source": [
    "# 英語で話しかける人のテキストを確認"
   ]
  },
  {
   "cell_type": "code",
   "execution_count": 1,
   "metadata": {},
   "outputs": [
    {
     "name": "stdout",
     "output_type": "stream",
     "text": [
      "I have to go to ABC Hotel by 5pm today.\n",
      "But I'm at a loss because I don't know how to get to ABC Hotel.\n",
      "I only have 30 minutes left, please tell me how to get there.\n",
      "\n"
     ]
    }
   ],
   "source": [
    "text_en = \"\"\n",
    "with open(\"./sample.txt\") as f:\n",
    "    for t in f.readlines():\n",
    "        text_en += t\n",
    "print(text_en)"
   ]
  },
  {
   "cell_type": "markdown",
   "metadata": {},
   "source": [
    "# 本日使うAWSサービスのクライアントインスタンスをまとめて生成"
   ]
  },
  {
   "cell_type": "code",
   "execution_count": 2,
   "metadata": {},
   "outputs": [],
   "source": [
    "from datetime import datetime\n",
    "from time import sleep\n",
    "from pathlib import Path\n",
    "import json\n",
    "import boto3\n",
    "from matplotlib import pyplot as plt"
   ]
  },
  {
   "cell_type": "code",
   "execution_count": 3,
   "metadata": {},
   "outputs": [],
   "source": [
    "# 使用するboto3 clientインスタンス生成\n",
    "polly_client = boto3.client(\"polly\")\n",
    "translate_client = boto3.client(\"translate\")\n",
    "s3_client = boto3.client(\"s3\")\n",
    "transcribe_client = boto3.client(\"transcribe\")\n",
    "comprehend_client = comprehend = boto3.client('comprehend')"
   ]
  },
  {
   "cell_type": "markdown",
   "metadata": {},
   "source": [
    "# 英語で話す音声を Amazon Polly で作成する"
   ]
  },
  {
   "cell_type": "code",
   "execution_count": 4,
   "metadata": {},
   "outputs": [],
   "source": [
    "# API 実行\n",
    "polly_response = polly_client.synthesize_speech(\n",
    "    OutputFormat='mp3', # 音声出力フォーマット\n",
    "    LanguageCode='en-US', # 言語を指定\n",
    "    Text=text_en, # 英語のテキストを指定\n",
    "    VoiceId=\"Joanna\" # Joannna,Mizuki,Takumiなど\n",
    ")"
   ]
  },
  {
   "cell_type": "code",
   "execution_count": 5,
   "metadata": {},
   "outputs": [],
   "source": [
    "# 音声ファイルを出力 (mp3)\n",
    "mp3_binary = polly_response[\"AudioStream\"].read()\n",
    "file_name = \"talk_en.mp3\"\n",
    "file_path = \"./\"\n",
    "with open(file_path + file_name,\"wb\") as f:\n",
    "    f.write(mp3_binary)"
   ]
  },
  {
   "cell_type": "markdown",
   "metadata": {},
   "source": [
    "# Amazon Transcribeを使って音声ファイルを文字起こしする\n",
    "\n",
    "* 英語で話されても理解できないため、まずは文字起こしを行う\n",
    "* Amazon transcribe は文字起こしする対象のデータがS3に保存されている必要があるため、先程作成したmp3ファイルをS3に配置する。\n",
    "* 配置したS3のURIを指定して Transcribe のジョブを作成する"
   ]
  },
  {
   "cell_type": "code",
   "execution_count": 6,
   "metadata": {},
   "outputs": [],
   "source": [
    "# 事前にS3のバケットを用意\n",
    "# 音声ファイルを配置するバケット名は input_bucket_name に、文字起こし結果を格納するバケット名はoutput_bucket_nameに格納する\n",
    "input_bucket_name = \"transcribe-input-bucket-202004161130\"\n",
    "output_bucket_name = \"transcribe-output-bucket-202004161130\""
   ]
  },
  {
   "cell_type": "code",
   "execution_count": 7,
   "metadata": {},
   "outputs": [
    {
     "name": "stdout",
     "output_type": "stream",
     "text": [
      "s3://transcribe-input-bucket-202004161130/talk_en.mp3\n"
     ]
    }
   ],
   "source": [
    "# mp3をS3へアップロード\n",
    "s3_client.upload_file(file_path + file_name, input_bucket_name, file_name)\n",
    "print(\"s3://\" + input_bucket_name + \"/\" + file_name)"
   ]
  },
  {
   "cell_type": "code",
   "execution_count": 8,
   "metadata": {},
   "outputs": [],
   "source": [
    "# transcribe API実行\n",
    "file_uri = f's3://{input_bucket_name}/{file_name}'\n",
    "# job_nameはファイル名から拡張子を除去した上( talk_en )、年月日時刻を設定\n",
    "job_name = Path(file_name).stem + datetime.now().strftime('%Y%m%d%H%M%S')\n",
    "transcribe_response = transcribe_client.start_transcription_job(\n",
    "    TranscriptionJobName=job_name,\n",
    "    Media={\n",
    "        'MediaFileUri':file_uri\n",
    "    },\n",
    "    MediaFormat='mp3',\n",
    "    LanguageCode='en-US',\n",
    "    OutputBucketName= output_bucket_name\n",
    ")"
   ]
  },
  {
   "cell_type": "code",
   "execution_count": 9,
   "metadata": {},
   "outputs": [
    {
     "name": "stdout",
     "output_type": "stream",
     "text": [
      "I have to go to ABC Hotel by 5 p.m. Today. But I'm at a loss because I don't know how to get to ABC Hotel. I only have 30 minutes left. Please tell me how to get there.\n"
     ]
    }
   ],
   "source": [
    "s3_response = s3_client.get_object(Bucket=output_bucket_name,Key=job_name+\".json\")['Body'].read()\n",
    "transcribe_data = json.loads(s3_response)[\"results\"][\"transcripts\"][0][\"transcript\"]\n",
    "print(transcribe_data)"
   ]
  },
  {
   "cell_type": "code",
   "execution_count": 10,
   "metadata": {},
   "outputs": [
    {
     "name": "stdout",
     "output_type": "stream",
     "text": [
      "I have to go to ABC Hotel by 5 pm Today But I'm at a loss because I don't know how to get to ABC Hotel I only have 30 minutes left Please tell me how to get there\n",
      "I have to go to ABC Hotel by 5pm today But I'm at a loss because I don't know how to get to ABC Hotel I only have 30 minutes left please tell me how to get there \n"
     ]
    }
   ],
   "source": [
    "print(transcribe_data.replace(\".\",\"\"))\n",
    "print(text_en.replace(\"\\n\",\" \").replace(\".\",\"\").replace(\",\",\"\"))"
   ]
  },
  {
   "cell_type": "markdown",
   "metadata": {},
   "source": [
    "# 文字起こししたデータを日本語に翻訳"
   ]
  },
  {
   "cell_type": "code",
   "execution_count": 11,
   "metadata": {},
   "outputs": [
    {
     "name": "stdout",
     "output_type": "stream",
     "text": [
      "今日は午後5時までにABCホテルに行かなきゃでもABCホテルへの行き方が分からんから途方に暮れてる30分しか残ってない行き方を教えてください。\n"
     ]
    }
   ],
   "source": [
    "translate_response = translate_client.translate_text(\n",
    "    Text=transcribe_data, # 翻訳したい文字列を指定\n",
    "    SourceLanguageCode=\"en\", # 翻訳「元」の言語\n",
    "    TargetLanguageCode=\"ja\" # 翻訳「先」の言語\n",
    ")\n",
    "text_jp = translate_response[\"TranslatedText\"]\n",
    "print(text_jp)"
   ]
  },
  {
   "cell_type": "markdown",
   "metadata": {},
   "source": [
    "# Comprehend でエンティティの抽出"
   ]
  },
  {
   "cell_type": "code",
   "execution_count": 12,
   "metadata": {},
   "outputs": [
    {
     "name": "stdout",
     "output_type": "stream",
     "text": [
      "{'Score': 0.868171751499176, 'Type': 'DATE', 'Text': '今日', 'BeginOffset': 0, 'EndOffset': 2}\n",
      "{'Score': 0.9926034808158875, 'Type': 'DATE', 'Text': '午後5時', 'BeginOffset': 3, 'EndOffset': 7}\n",
      "{'Score': 0.9786354899406433, 'Type': 'ORGANIZATION', 'Text': 'ABCホテル', 'BeginOffset': 10, 'EndOffset': 16}\n",
      "{'Score': 0.9924710392951965, 'Type': 'ORGANIZATION', 'Text': 'ABCホテル', 'BeginOffset': 24, 'EndOffset': 30}\n",
      "{'Score': 0.99479740858078, 'Type': 'QUANTITY', 'Text': '30分', 'BeginOffset': 49, 'EndOffset': 52}\n"
     ]
    }
   ],
   "source": [
    "# detect_entities でエンティティを抽出\n",
    "response_entities = comprehend_client.detect_entities(Text=text_jp, LanguageCode=\"ja\")\n",
    "for entity in response_entities[\"Entities\"]:\n",
    "    print(entity)"
   ]
  },
  {
   "cell_type": "markdown",
   "metadata": {},
   "source": [
    "# Comprehend でキーフレーズの抽出"
   ]
  },
  {
   "cell_type": "code",
   "execution_count": 13,
   "metadata": {},
   "outputs": [
    {
     "name": "stdout",
     "output_type": "stream",
     "text": [
      "{'Score': 0.999996542930603, 'Text': '今日', 'BeginOffset': 0, 'EndOffset': 2}\n",
      "{'Score': 0.9999988675117493, 'Text': '午後5時', 'BeginOffset': 3, 'EndOffset': 7}\n",
      "{'Score': 0.9999999403953552, 'Text': 'ABCホテル', 'BeginOffset': 10, 'EndOffset': 16}\n",
      "{'Score': 0.9999346733093262, 'Text': 'ABCホテルへの行き方', 'BeginOffset': 24, 'EndOffset': 35}\n",
      "{'Score': 0.9999992847442627, 'Text': '途方', 'BeginOffset': 42, 'EndOffset': 44}\n",
      "{'Score': 0.9999986290931702, 'Text': '30分', 'BeginOffset': 49, 'EndOffset': 52}\n",
      "{'Score': 0.9999966621398926, 'Text': '行き方', 'BeginOffset': 59, 'EndOffset': 62}\n"
     ]
    }
   ],
   "source": [
    "# detect_key_phrases でキーフレーズの抽出\n",
    "response_key_phrases = comprehend_client.detect_key_phrases(Text=text_jp, LanguageCode=\"ja\")\n",
    "for key_phrase in response_key_phrases[\"KeyPhrases\"]:\n",
    "    print(key_phrase)"
   ]
  },
  {
   "cell_type": "markdown",
   "metadata": {},
   "source": [
    "# Comprehendで感情の検出"
   ]
  },
  {
   "cell_type": "code",
   "execution_count": 14,
   "metadata": {},
   "outputs": [
    {
     "name": "stdout",
     "output_type": "stream",
     "text": [
      "NEUTRAL\n",
      "{'Positive': 0.0004968263674527407, 'Negative': 0.12053017318248749, 'Neutral': 0.8789694309234619, 'Mixed': 3.5541199849831173e-06}\n"
     ]
    }
   ],
   "source": [
    "# detect_sentiment で感情を検出\n",
    "response_sentiment = comprehend_client.detect_sentiment(Text=text_jp, LanguageCode=\"ja\")\n",
    "print(response_sentiment[\"Sentiment\"])\n",
    "print(response_sentiment[\"SentimentScore\"])"
   ]
  },
  {
   "cell_type": "markdown",
   "metadata": {},
   "source": [
    "# 感情を少し見やすく棒グラフで"
   ]
  },
  {
   "cell_type": "code",
   "execution_count": 15,
   "metadata": {},
   "outputs": [
    {
     "data": {
      "text/plain": [
       "<BarContainer object of 4 artists>"
      ]
     },
     "execution_count": 15,
     "metadata": {},
     "output_type": "execute_result"
    },
    {
     "data": {
      "image/png": "[encoded data removed]",
      "text/plain": [
       "<Figure size 432x288 with 1 Axes>"
      ]
     },
     "metadata": {},
     "output_type": "display_data"
    }
   ],
   "source": [
    "x_axis = []\n",
    "sentiment_score = []\n",
    "for sentiment in response_sentiment[\"SentimentScore\"].keys():\n",
    "    x_axis.append(sentiment)\n",
    "    sentiment_score.append(response_sentiment[\"SentimentScore\"][sentiment])\n",
    "\n",
    "plt.bar(x_axis, sentiment_score, tick_label=x_axis, align=\"center\")"
   ]
  },
  {
   "cell_type": "code",
   "execution_count": 16,
   "metadata": {},
   "outputs": [
    {
     "name": "stdout",
     "output_type": "stream",
     "text": [
      "今日は午後5時までにABCホテルに行かなきゃでもABCホテルへの行き方が分からんから途方に暮れてる30分しか残ってない行き方を教えてください。\n"
     ]
    }
   ],
   "source": [
    "print(text_jp)"
   ]
  },
  {
   "cell_type": "code",
   "execution_count": null,
   "metadata": {},
   "outputs": [],
   "source": []
  },
  {
   "cell_type": "code",
   "execution_count": null,
   "metadata": {},
   "outputs": [],
   "source": []
  },
  {
   "cell_type": "code",
   "execution_count": null,
   "metadata": {},
   "outputs": [],
   "source": []
  },
  {
   "cell_type": "code",
   "execution_count": null,
   "metadata": {},
   "outputs": [],
   "source": []
  },
  {
   "cell_type": "code",
   "execution_count": null,
   "metadata": {},
   "outputs": [],
   "source": []
  },
  {
   "cell_type": "code",
   "execution_count": null,
   "metadata": {},
   "outputs": [],
   "source": []
  },
  {
   "cell_type": "code",
   "execution_count": null,
   "metadata": {},
   "outputs": [],
   "source": [
    "import boto3\n",
    "client = boto3.client('transcribe')"
   ]
  },
  {
   "cell_type": "code",
   "execution_count": null,
   "metadata": {},
   "outputs": [],
   "source": [
    "for job in client.list_transcription_jobs()[\"TranscriptionJobSummaries\"]:\n",
    "    jobname = job[\"TranscriptionJobName\"]\n",
    "    client.delete_transcription_job(TranscriptionJobName=jobname) "
   ]
  },
  {
   "cell_type": "code",
   "execution_count": null,
   "metadata": {},
   "outputs": [],
   "source": [
    "client.list_transcription_jobs()[\"TranscriptionJobSummaries\"]"
   ]
  },
  {
   "cell_type": "code",
   "execution_count": null,
   "metadata": {},
   "outputs": [],
   "source": []
  }
 ],
 "metadata": {
  "kernelspec": {
   "display_name": "conda_tensorflow_p36",
   "language": "python",
   "name": "conda_tensorflow_p36"
  },
  "language_info": {
   "codemirror_mode": {
    "name": "ipython",
    "version": 3
   },
   "file_extension": ".py",
   "mimetype": "text/x-python",
   "name": "python",
   "nbconvert_exporter": "python",
   "pygments_lexer": "ipython3",
   "version": "3.6.6"
  }
 },
 "nbformat": 4,
 "nbformat_minor": 4
}
